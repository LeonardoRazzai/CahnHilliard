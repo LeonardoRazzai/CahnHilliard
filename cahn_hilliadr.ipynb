{
 "cells": [
  {
   "cell_type": "code",
   "execution_count": null,
   "metadata": {},
   "outputs": [],
   "source": [
    "from CahnHilliard import *"
   ]
  },
  {
   "cell_type": "markdown",
   "metadata": {},
   "source": [
    "**Theoretical introduction**"
   ]
  },
  {
   "cell_type": "markdown",
   "metadata": {},
   "source": [
    "Cahn Hilliard equations describe the so called spinodal decomposition. This is an example of continous phase transformation, that can happen for example in a binary alloy. The order parameter describing this kind of phase transformations is the concentration of one metal in the alloy, call it $c$, so it is a conserved order parameter.\\\n",
    "The main features of spinodal decomposition can be understood by considering the free energy density of the system (the binary alloy) as function of the concentration. Indeed, two different phases of the alloy (defined by their respective concentrations $c_1$ and $c_2$) can coexist only if they share a common tangent to the free energy curve. This happens if the free energy curve has two relative minima separated by an energy barrier. The region between the inflection points delimiting the barrier is called spinodal region. In this region, where the second derivative of the free energy is negative, the evolution of the system towards equilibrium (i.e. from initial concentration $c_0$ to final concentration $c_1$ or $c_2$) can develope with continuity. This is because the variation in free energy for an infinitesiamal variation $\\delta c$ of a conserved order parameter $c$ is given by:\n",
    "\n",
    "$$\n",
    "\\begin{equation*}\n",
    "\\delta F = \\frac{1}{2} (\\frac{\\partial^2 F}{\\partial c^2}) \\delta c^2\n",
    "\\end{equation*}\n",
    "$$\n",
    "\n",
    "so, in the spinodal region, where $\\frac{\\partial^2 F}{\\partial c^2}$ is negative, any infinitesimal variation $\\delta c$ produces an energy decrease, and so can happen spontaneously.\\ \n",
    "This means that in the system regions with concentration $c_1$ in contact with regions with concentration $c_2$ will araise. At the interface between them, there will be a gradient in concentration, and so a concentration flux. So the equilibrium condition will be reached when the total energy of the system is minimized and gredients in concentratioin are as small as possible.\\\n",
    "We can take into account the contribution of gradients by adding to the free energy density of the homogeneous system $f^{hom}$ a term measuiring the modulus of the gradient:\n",
    "\n",
    "$$\n",
    "\\begin{equation*}\n",
    "f(c, \\nabla c) = f^{hom}(c) + K |\\nabla c|^2\n",
    "\\end{equation*} \n",
    "$$\n",
    "\n",
    "Then, assuming the free energy density of the system to be given by equation (1), the total energy of the system will be a functional of the concentration $c(\\vec{r}, t)$, given by:\n",
    "\n",
    "$$\n",
    "\\begin{equation*}\n",
    "F = \\int f(c, \\nabla c) \\, dV\n",
    "\\end{equation*} \n",
    "$$\n",
    "\n",
    "Then, if we compute how the variation in total free energy $\\delta F$ is related to the variation in concentration $\\delta c$, the potential to change $c(\\vec{r}, t)$ will be given by: \n",
    "\n",
    "$$\n",
    "\\begin{equation*}\n",
    "\\Phi(\\vec{r}) = \\frac{\\partial f^{hom}}{\\partial c} - 2 K \\nabla ^ 2 c\n",
    "\\end{equation*}\n",
    "$$\n",
    "\n",
    "Now, since the concentration is a conserved order parameter, the evolution of the concentration profile $c(\\vec{r}, t)$ is given by the continuity equation:\n",
    "\n",
    "$$\n",
    "\\begin{equation*}\n",
    "\\frac{\\partial c}{\\partial t} = - \\nabla \\cdot \\vec{J} \\,\\,\\,\\,\\,\\,\\,\\,\\,\\,\\,\\,\\,\\,\\,\\,\\,\\,\\, \\vec{J} = - M \\nabla \\Phi\n",
    "\\end{equation*}\n",
    "$$\n",
    "\n",
    "and assuming M to be constant with respect to position, substituting the expression for $\\Phi$, we get the Cahn Hilliard equation:\n",
    "\n",
    "$$\n",
    "\\begin{equation*}\n",
    "\\frac{\\partial c}{\\partial t} = M \\nabla^2 (\\frac{\\partial f^{hom}}{\\partial c} - 2 K \\nabla ^ 2 c)\n",
    "\\end{equation*}\n",
    "$$\n",
    "\n",
    "Now we can make an assumption about the form of the homogenenous free energy density function. The simplest one is a forth order polynomial of the kind:\n",
    "\n",
    "$$\n",
    "\\begin{equation*}\n",
    "f^{hom} (c) = \\gamma (c - c_0 + \\delta)^2 (c - c_0 - \\delta)^2\n",
    "\\end{equation*}\n",
    "$$\n",
    "\n",
    "shown in figure\n",
    "\n",
    "<p align=\"center\">\n",
    "    <img src=\"imgs/free_energy_density.png\" alt=\"Free energy density\">\n",
    "</p>\n",
    "\n",
    "Then if we set $\\gamma = 1$, $\\delta = 1$, $c_0 = 0$, we get the final equation that we are going to solve numerically:\n",
    "\n",
    "\\begin{equation*}\n",
    "\\frac{\\partial c}{\\partial t} = M \\nabla^2 (c^3 - c - a \\nabla^2 c)\n",
    "\\end{equation*}"
   ]
  },
  {
   "cell_type": "code",
   "execution_count": null,
   "metadata": {},
   "outputs": [],
   "source": [
    "L = 40\n",
    "N = 400\n",
    "dx = L / N\n",
    "dy = L / N"
   ]
  },
  {
   "cell_type": "code",
   "execution_count": null,
   "metadata": {},
   "outputs": [],
   "source": [
    "\n",
    "x, y = np.meshgrid(np.linspace(-L/2, L/2, N), np.linspace(-L/2, L/2, N))\n",
    "mean = 0.0 # must be less than 0.69\n",
    "conc0 = np.zeros((N, N)) + mean\n",
    "\n",
    "D = dx**2 * 3 # diffusivity cm**2 / s\n",
    "gamma = 500\n",
    "beta = N / dx / gamma # in this way fastest growing wavelength is 2*pi * L/gamma\n",
    "a = dx**4 * beta**2 # fastest growing componet is 1/sqrt(a)\n",
    "\n",
    "amp = 0.01\n",
    "conc0 = conc0 + amp * np.random.randn(N, N)\n",
    "\n",
    "print(f'mean concentration: {np.mean(conc0):2f}')\n",
    "\n",
    "fig, ax = plt.subplots(1,2 , figsize=(15, 6))\n",
    "ax[0].imshow(conc0, cmap='inferno')\n",
    "ax[0].set_title(f'Concentration in x-y plane', fontdict=title_font)\n",
    "ax[0].set_xticks([])\n",
    "ax[0].set_yticks([])\n",
    "\n",
    "histo = np.histogram(conc0.reshape((N**2)), N)\n",
    "bins = histo[1]\n",
    "counts = histo[0]\n",
    "ax[1].plot(bins[:-1], counts / np.max(counts), color='darkorchid')\n",
    "ax[1].axvline(1/np.sqrt(3), ls='--', color='black', label='Spinodal')\n",
    "ax[1].axvline(-1/np.sqrt(3), ls='--', color='black')\n",
    "ax[1].set_title('Concentration distribution', fontdict=title_font)\n",
    "ax[1].set_ylabel('counts', fontdict=base_font)\n",
    "ax[1].set_xlabel('Conc', fontdict=base_font)\n",
    "ax[1].set_xlim(-1.2, 1.2)\n",
    "ax[1].set_ylim(0.05, 1.1)\n",
    "ax[1].legend()\n",
    "plt.show()"
   ]
  },
  {
   "cell_type": "code",
   "execution_count": null,
   "metadata": {},
   "outputs": [],
   "source": [
    "tmax = 10\n",
    "Nt = 1000\n",
    "time = np.linspace(0, tmax, Nt)\n",
    "\n",
    "CH_system = Sol_CahnHilliard(L, N, D, a)\n",
    "CH_system.compute_sol(conc0, time)"
   ]
  },
  {
   "cell_type": "code",
   "execution_count": null,
   "metadata": {},
   "outputs": [],
   "source": [
    "CH_system.MakeGif_sol()"
   ]
  },
  {
   "cell_type": "code",
   "execution_count": null,
   "metadata": {},
   "outputs": [],
   "source": [
    "CH_system.ComputeFT()"
   ]
  },
  {
   "cell_type": "code",
   "execution_count": null,
   "metadata": {},
   "outputs": [],
   "source": [
    "CH_system.MakeGif_FT()"
   ]
  },
  {
   "cell_type": "code",
   "execution_count": null,
   "metadata": {},
   "outputs": [],
   "source": [
    "CH_system.Compute_histo()"
   ]
  },
  {
   "cell_type": "code",
   "execution_count": null,
   "metadata": {},
   "outputs": [],
   "source": [
    "CH_system.MakeGif_tot()"
   ]
  }
 ],
 "metadata": {
  "kernelspec": {
   "display_name": ".venv",
   "language": "python",
   "name": "python3"
  },
  "language_info": {
   "codemirror_mode": {
    "name": "ipython",
    "version": 3
   },
   "file_extension": ".py",
   "mimetype": "text/x-python",
   "name": "python",
   "nbconvert_exporter": "python",
   "pygments_lexer": "ipython3",
   "version": "3.10.4"
  },
  "orig_nbformat": 4
 },
 "nbformat": 4,
 "nbformat_minor": 2
}
